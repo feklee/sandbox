{
  "nbformat": 4,
  "nbformat_minor": 0,
  "metadata": {
    "colab": {
      "name": "SAN",
      "version": "0.3.2",
      "provenance": [],
      "collapsed_sections": [],
      "toc_visible": true,
      "include_colab_link": true
    },
    "kernelspec": {
      "name": "python3",
      "display_name": "Python 3"
    }
  },
  "cells": [
    {
      "cell_type": "markdown",
      "metadata": {
        "id": "view-in-github",
        "colab_type": "text"
      },
      "source": [
        "<a href=\"https://colab.research.google.com/github/feklee/test/blob/master/SAN.ipynb\" target=\"_parent\"><img src=\"https://colab.research.google.com/assets/colab-badge.svg\" alt=\"Open In Colab\"/></a>"
      ]
    },
    {
      "metadata": {
        "id": "VApsNymv_tAi",
        "colab_type": "code",
        "colab": {
          "base_uri": "https://localhost:8080/",
          "height": 36
        },
        "outputId": "b3e8c6e2-fca8-4620-db62-cb01db6af8dc"
      },
      "cell_type": "code",
      "source": [
        "!ls"
      ],
      "execution_count": 1,
      "outputs": [
        {
          "output_type": "stream",
          "text": [
            "sample_data\n"
          ],
          "name": "stdout"
        }
      ]
    },
    {
      "metadata": {
        "id": "CK0pMaKW_xZL",
        "colab_type": "text"
      },
      "cell_type": "markdown",
      "source": [
        "# SAN — Self Aware Network"
      ]
    },
    {
      "metadata": {
        "id": "hzNDTB4LBQPA",
        "colab_type": "text"
      },
      "cell_type": "markdown",
      "source": [
        "<h2>Introduction</h2>\n",
        "The network contains of nodes (spheres) and edges (rods)."
      ]
    },
    {
      "metadata": {
        "id": "HLpAsQlVBdIR",
        "colab_type": "text"
      },
      "cell_type": "markdown",
      "source": [
        "## Nodes\n",
        "\n",
        "![Geometry of a node](geometry.png)\n",
        "\n",
        "  * A node's *axis* is relevant if there is information about tilt.\n",
        "\n",
        "  * Except for the root node, each node has four *ports* to which other nodes can be connected. The ports are numbered 1, 2, 3, and 4.\n",
        "  \n",
        "  * The root node has only one port, port 1.\n",
        "  \n",
        "  * The root node is connected to the computer by USB.\n",
        "  \n",
        "  * The ID of the root node is: `^`\n",
        "  \n",
        "  * All other nodes have IDs: A-Z"
      ]
    },
    {
      "metadata": {
        "id": "9W4JdJAnGi7B",
        "colab_type": "text"
      },
      "cell_type": "markdown",
      "source": [
        "# New Section"
      ]
    },
    {
      "metadata": {
        "id": "tMHn0x8AETAv",
        "colab_type": "text"
      },
      "cell_type": "markdown",
      "source": [
        ""
      ]
    }
  ]
}